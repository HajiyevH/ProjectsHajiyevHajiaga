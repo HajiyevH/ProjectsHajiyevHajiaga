{
 "cells": [
  {
   "cell_type": "code",
<<<<<<< Updated upstream
   "execution_count": 1,
=======
   "execution_count": 22,
>>>>>>> Stashed changes
   "metadata": {},
   "outputs": [],
   "source": [
    "import warnings \n",
    "warnings.filterwarnings(\"ignore\")\n",
    "from sklearn.linear_model import ElasticNet\n",
    "import pandas as pd\n",
    "import numpy as np\n",
    "import seaborn as sns\n",
    "import matplotlib.pyplot as plt\n",
    "from sklearn.decomposition import PCA\n",
<<<<<<< Updated upstream
    "from sklearn.preprocessing import OneHotEncoder , PolynomialFeatures,MinMaxScaler\n",
    "from sklearn.linear_model import LinearRegression ,ElasticNetCV \n",
=======
    "from sklearn.preprocessing import OneHotEncoder , PolynomialFeatures , MinMaxScaler\n",
    "from sklearn.linear_model import LinearRegression ,ElasticNetCV\n",
>>>>>>> Stashed changes
    "from sklearn.metrics import mean_squared_error \n",
    "from sklearn.model_selection import train_test_split ,cross_val_score\n",
    "from sklearn.compose import ColumnTransformer\n",
    "from scipy.stats import skew\n",
    "train = pd.read_csv('/Users/hajiaga/Documents/house-prices-advanced-regression-techniques-2/train.csv')\n",
    "\n",
    "train[\"SalePrice\"] = np.log1p(train['SalePrice'])\n",
    "test = pd.read_csv('/Users/hajiaga/Documents/house-prices-advanced-regression-techniques-2/test.csv')\n",
    "sample_submission = pd.read_csv('/Users/hajiaga/Documents/house-prices-advanced-regression-techniques-2/sample_submission.csv')\n"
   ]
  },
  {
   "cell_type": "code",
<<<<<<< Updated upstream
   "execution_count": 2,
=======
   "execution_count": 23,
>>>>>>> Stashed changes
   "metadata": {},
   "outputs": [],
   "source": [
    "\n",
    "data = pd.concat([train , test] , axis= 0)\n",
    "data.drop([\"Id\"] ,axis=1, inplace=True)\n",
    "\n",
    "\n",
    "data['MSSubClass'] = data['MSSubClass'].apply(str)\n",
    "data['MoSold'] = data['MoSold'].apply(str)\n",
    "\n",
    "\n",
    "data[\"LotFrontage\"] = data.groupby(\"Neighborhood\")[\"LotFrontage\"].transform(lambda x: x.fillna(x.median()))\n",
    "data['SaleType'] = data['SaleType'].fillna(data['SaleType'].mode()[0])"
   ]
  },
  {
   "cell_type": "code",
<<<<<<< Updated upstream
   "execution_count": 3,
=======
   "execution_count": 24,
>>>>>>> Stashed changes
   "metadata": {},
   "outputs": [],
   "source": [
    "str_cols = data.select_dtypes(\"O\").columns\n",
    "num_cols = data.select_dtypes(\"number\").columns\n",
    "num_cols = list(num_cols)\n",
    "no_cols = [\"MiscFeature\" , \"Fence\" , \"GarageCond\" , \"GarageQual\" , \"GarageFinish\" , \"FireplaceQu\" , \"BsmtFinType2\" , \"BsmtExposure\", \"BsmtCond\" , \"BsmtQual\" , \"Alley\"]\n",
    "for col in data.columns:\n",
    "    if col != \"SalePrice\":\n",
    "        if col in no_cols:\n",
    "            data[col]=data[col].fillna(\"None\")\n",
    "        elif col in str_cols:\n",
    "            data[col]=data[col].fillna(data[col].mode()[0])\n",
    "        elif col in num_cols:\n",
    "            data[col]=data[col].fillna(0)\n",
    "np.array(no_cols)\n",
    "data[\"TotalHouse\"] = data[\"TotalBsmtSF\"] + data[\"1stFlrSF\"] + data[\"2ndFlrSF\"]   \n",
    "data[\"qualtot\"] = data[\"TotalHouse\"] * data[\"OverallQual\"]\n",
    "\n"
   ]
  },
  {
   "cell_type": "code",
<<<<<<< Updated upstream
   "execution_count": 4,
=======
   "execution_count": 25,
>>>>>>> Stashed changes
   "metadata": {},
   "outputs": [],
   "source": [
    "def detect_outliers(df,col):\n",
    "    Q1 = df[col].quantile(0.005)\n",
    "    Q3 = df[col].quantile(0.995)\n",
    "    IQR = Q3-Q1\n",
    "    lwr_bnd = Q1 - IQR*1.5\n",
    "    hgh_bnd= Q3 + IQR*1.5\n",
    "    df.drop(df[df[col]>hgh_bnd].index ,axis =0, inplace=True)\n",
    "    df.drop(df[df[col]<lwr_bnd].index , axis = 0, inplace=True)\n",
    "# deyisdim"
   ]
  },
  {
   "cell_type": "code",
<<<<<<< Updated upstream
   "execution_count": 5,
   "metadata": {},
   "outputs": [
    {
     "data": {
      "image/png": "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",
      "text/plain": [
       "<Figure size 640x480 with 1 Axes>"
      ]
     },
     "metadata": {},
     "output_type": "display_data"
    }
   ],
   "source": [
    "from sklearn.preprocessing import LabelEncoder\n",
    "\n",
    "\n",
    "\n",
    "sns.distplot(data['SalePrice'], kde = True, hist=True)\n",
    "plt.show()"
   ]
  },
  {
   "cell_type": "code",
   "execution_count": null,
=======
   "execution_count": 26,
>>>>>>> Stashed changes
   "metadata": {},
   "outputs": [],
   "source": [
    "\n"
   ]
  },
  {
   "cell_type": "code",
<<<<<<< Updated upstream
   "execution_count": 6,
=======
   "execution_count": 27,
>>>>>>> Stashed changes
   "metadata": {},
   "outputs": [],
   "source": [
    "# ct = ColumnTransformer(transformers=[( \"poly\" ,PolynomialFeatures(degree=2), a.select_dtypes(include=['number']).columns)], remainder='passthrough')\n",
    "# ct.fit_transform(data)\n",
    "#Bunlari sonea isletmedim"
   ]
  },
  {
   "cell_type": "code",
<<<<<<< Updated upstream
   "execution_count": 7,
=======
   "execution_count": 28,
>>>>>>> Stashed changes
   "metadata": {},
   "outputs": [
    {
     "name": "stdout",
     "output_type": "stream",
     "text": [
      "['LotFrontage', 'LotArea', 'OverallQual', 'OverallCond', 'YearBuilt', 'YearRemodAdd', 'MasVnrArea', 'BsmtFinSF1', 'BsmtFinSF2', 'BsmtUnfSF', 'TotalBsmtSF', '1stFlrSF', '2ndFlrSF', 'LowQualFinSF', 'GrLivArea', 'BsmtFullBath', 'BsmtHalfBath', 'FullBath', 'HalfBath', 'BedroomAbvGr', 'KitchenAbvGr', 'TotRmsAbvGrd', 'Fireplaces', 'GarageYrBlt', 'GarageCars', 'GarageArea', 'WoodDeckSF', 'OpenPorchSF', 'EnclosedPorch', '3SsnPorch', 'ScreenPorch', 'PoolArea', 'MiscVal', 'YrSold', 'SalePrice']\n"
     ]
    }
   ],
   "source": [
    "# cte = ColumnTransformer(transformers=[( \"poly\" ,PolynomialFeatures(degree=2), pd.Series((list(data.select_dtypes(include=['number']).columns).remove(\"SalePrice\"))).astype(\"O\"))], remainder='passthrough')\n",
    "# cte.fit_transform(data)\n",
    "# data.select_dtypes(\"number\")\n",
    "print(num_cols)\n"
   ]
  },
  {
   "cell_type": "code",
<<<<<<< Updated upstream
   "execution_count": 8,
   "metadata": {},
   "outputs": [],
   "source": [
    "from scipy import stats\n"
   ]
  },
  {
   "cell_type": "code",
   "execution_count": 9,
=======
   "execution_count": 29,
>>>>>>> Stashed changes
   "metadata": {},
   "outputs": [
    {
     "name": "stdout",
     "output_type": "stream",
     "text": [
      "                    Skew\n",
      "MiscVal        21.947195\n",
      "PoolArea       16.898328\n",
      "LotArea        12.822431\n",
      "LowQualFinSF   12.088761\n",
      "3SsnPorch      11.376065\n",
      "KitchenAbvGr    4.302254\n",
      "BsmtFinSF2      4.146143\n",
      "EnclosedPorch   4.003891\n",
      "ScreenPorch     3.946694\n",
      "BsmtHalfBath    3.931594\n",
      "MasVnrArea      2.613592\n",
      "OpenPorchSF     2.535114\n",
      "qualtot         2.142254\n",
      "WoodDeckSF      1.842433\n",
      "TotalHouse      1.511479\n",
      "LotFrontage     1.505704\n",
      "1stFlrSF        1.469604\n",
      "BsmtFinSF1      1.425230\n",
      "GrLivArea       1.269358\n",
      "TotalBsmtSF     1.156894\n"
     ]
    }
   ],
   "source": [
    "num_cols = data.dtypes[data.dtypes != \"object\"].index\n",
    "skewed_feats = data[num_cols].apply(lambda x: skew(x.dropna())).sort_values(ascending=False)\n",
    "skewness = pd.DataFrame({'Skew' :skewed_feats})\n",
    "print(skewness.head(20))\n",
    "skewness = skewness[abs(skewness) > 0.75]\n",
    "skewness.head()\n",
    "from scipy.special import boxcox1p , inv_boxcox\n",
    "skewed_features = list(skewness.index)\n",
    "skewed_features.remove(\"SalePrice\")\n",
    "for col in skewed_features:\n",
    "    data[col] = data[col]+1\n",
    "    data[col], lamb = stats.boxcox(data[col])\n",
    "#12.174 oldu\n",
    "\n"
   ]
  },
  {
   "cell_type": "code",
<<<<<<< Updated upstream
   "execution_count": 10,
=======
   "execution_count": 30,
>>>>>>> Stashed changes
   "metadata": {},
   "outputs": [
    {
     "name": "stdout",
     "output_type": "stream",
     "text": [
      "Index(['MSSubClass', 'MSZoning', 'Street', 'Alley', 'LotShape', 'LandContour',\n",
      "       'Utilities', 'LotConfig', 'LandSlope', 'Neighborhood', 'Condition1',\n",
      "       'Condition2', 'BldgType', 'HouseStyle', 'RoofStyle', 'RoofMatl',\n",
      "       'Exterior1st', 'Exterior2nd', 'MasVnrType', 'ExterQual', 'ExterCond',\n",
      "       'Foundation', 'BsmtQual', 'BsmtCond', 'BsmtExposure', 'BsmtFinType1',\n",
      "       'BsmtFinType2', 'Heating', 'HeatingQC', 'CentralAir', 'Electrical',\n",
      "       'KitchenQual', 'Functional', 'FireplaceQu', 'GarageType',\n",
      "       'GarageFinish', 'GarageQual', 'GarageCond', 'PavedDrive', 'PoolQC',\n",
      "       'Fence', 'MiscFeature', 'MoSold', 'SaleType', 'SaleCondition'],\n",
      "      dtype='object')\n"
     ]
    }
   ],
   "source": [
    "\n",
    "train=data[data['SalePrice'].notnull()]\n",
    "for col in list(num_cols):\n",
    "    detect_outliers(train,col)\n",
    "test=data[data['SalePrice'].isnull()]\n",
    "test.drop(['SalePrice'] , inplace=True , axis = 1)\n",
    "num_cols = data.dtypes[data.dtypes == \"object\"].index\n",
    "print(num_cols)\n"
   ]
  },
  {
   "cell_type": "code",
<<<<<<< Updated upstream
   "execution_count": 11,
=======
   "execution_count": 31,
>>>>>>> Stashed changes
   "metadata": {},
   "outputs": [
    {
     "name": "stdout",
     "output_type": "stream",
     "text": [
      "Index(['MSSubClass', 'MSZoning', 'Street', 'Alley', 'LotShape', 'LandContour',\n",
      "       'Utilities', 'LotConfig', 'LandSlope', 'Neighborhood', 'Condition1',\n",
      "       'Condition2', 'BldgType', 'HouseStyle', 'RoofStyle', 'RoofMatl',\n",
      "       'Exterior1st', 'Exterior2nd', 'MasVnrType', 'ExterQual', 'ExterCond',\n",
      "       'Foundation', 'BsmtQual', 'BsmtCond', 'BsmtExposure', 'BsmtFinType1',\n",
      "       'BsmtFinType2', 'Heating', 'HeatingQC', 'CentralAir', 'Electrical',\n",
      "       'KitchenQual', 'Functional', 'FireplaceQu', 'GarageType',\n",
      "       'GarageFinish', 'GarageQual', 'GarageCond', 'PavedDrive', 'PoolQC',\n",
      "       'Fence', 'MiscFeature', 'MoSold', 'SaleType', 'SaleCondition'],\n",
      "      dtype='object')\n"
     ]
    }
   ],
   "source": [
    "X=train.drop('SalePrice', axis=1)\n",
    "Y=train['SalePrice']\n",
    "num_cols = data.dtypes[data.dtypes == \"object\"].index\n",
    "\n",
    "print(num_cols)"
   ]
  },
  {
   "cell_type": "code",
<<<<<<< Updated upstream
   "execution_count": 12,
=======
   "execution_count": 32,
>>>>>>> Stashed changes
   "metadata": {},
   "outputs": [],
   "source": [
    "ct = ColumnTransformer([('encoder', OneHotEncoder(handle_unknown='ignore'), X.select_dtypes(include=['object']).columns)], remainder='passthrough')\n",
    "X = ct.fit_transform(X)\n",
    "\n",
    "X_train , X_test , Y_train , Y_test = train_test_split(X , Y , test_size=0.3 , random_state=42)\n",
    "test= ct.transform(test)\n"
   ]
  },
  {
   "cell_type": "code",
   "execution_count": null,
   "metadata": {},
   "outputs": [],
   "source": []
  },
  {
   "cell_type": "code",
<<<<<<< Updated upstream
   "execution_count": 13,
=======
   "execution_count": 33,
>>>>>>> Stashed changes
   "metadata": {},
   "outputs": [],
   "source": [
    "def Poly_F(x , y , i , test ):\n",
    "    pf = PolynomialFeatures(degree=i)\n",
    "    pf.fit(x)\n",
    "    x_poly = pd.DataFrame(pf.transform(x) , columns = pf.get_feature_names_out())\n",
    "    pfe = PolynomialFeatures(degree=i)\n",
    "    pfe.fit(test)\n",
    "    test = pd.DataFrame(pfe.transform(test) , columns = pfe.get_feature_names_out())\n",
    "\n",
    "    X_train , X_test , Y_train , Y_test = train_test_split(x_poly , y , test_size=0.3 , random_state=42)\n",
    "    lr = LinearRegression()\n",
    "    lr.fit(X_train , Y_train)\n",
    "    # rmse_t = np.sqrt(mean_squared_error(Y_train , lr.predict(X_train)))\n",
    "    # rmse= np.sqrt(mean_squared_error(Y_test , lr.predict(X_test)))\n",
    "    return lr.predict(test)"
   ]
  },
  {
   "cell_type": "code",
<<<<<<< Updated upstream
   "execution_count": 14,
=======
   "execution_count": 34,
>>>>>>> Stashed changes
   "metadata": {},
   "outputs": [],
   "source": [
    "# def enet(x , y , i , j):\n",
    "#     enet = ElasticNet(alpha= i  , l1_ratio=j)\n",
    "#     X_train , X_test , Y_train , Y_test = train_test_split(x , y , test_size=0.25 , random_state=42)\n",
    "#     enet.fit(X_train , Y_train)\n",
    "#     rmse_t = np.sqrt(mean_squared_error(Y_train , enet.predict(X_train)))\n",
    "#     rmse= np.sqrt(mean_squared_error(Y_test , enet.predict(X_test)))\n",
    "#     return rmse_t , rmse , i , j"
   ]
  },
  {
   "cell_type": "code",
<<<<<<< Updated upstream
   "execution_count": 15,
=======
   "execution_count": 35,
>>>>>>> Stashed changes
   "metadata": {},
   "outputs": [],
   "source": [
    "# best_enet = {}\n",
    "# best_enet = dict(best_enet)\n",
    "# best_enety = {}\n",
    "# best_enety = dict(best_enety)\n",
    "# for i in [5,20,80]:\n",
    "#     for j in [5,20,80]:\n",
    "#         a , b , c , d= enet(X ,Y ,i/100 , j/100)\n",
    "#         best_enet[f\" i {c} , j {d}\"] = b\n",
    "#         best_enety[f\" i {c} , j {d}\"] = a\n"
   ]
  },
  {
   "cell_type": "code",
<<<<<<< Updated upstream
   "execution_count": 16,
=======
   "execution_count": 36,
>>>>>>> Stashed changes
   "metadata": {},
   "outputs": [],
   "source": [
    "# print(print(min(best_enet, key=best_enet.get)))\n",
    "# print(print(min(best_enety, key=best_enety.get)))\n",
    "# print(best_enet )"
   ]
  },
  {
   "cell_type": "code",
<<<<<<< Updated upstream
   "execution_count": 17,
=======
   "execution_count": 37,
>>>>>>> Stashed changes
   "metadata": {},
   "outputs": [
    {
     "name": "stdout",
     "output_type": "stream",
     "text": [
      "SalePrice 0.9993150684931507\n"
     ]
    }
   ],
   "source": [
    "#KNN - 0.39\n",
    "#knn = KNeighborsClassifier()\n",
    "#knn.fit(X_train , Y_train)\n",
    "for col in data:\n",
    "    if data[col].isnull().sum()/data[col].count()>0:\n",
    "        print(col ,data[col].isnull().sum()/data[col].count() )"
   ]
  },
  {
   "cell_type": "code",
<<<<<<< Updated upstream
   "execution_count": 18,
=======
   "execution_count": 38,
>>>>>>> Stashed changes
   "metadata": {},
   "outputs": [
    {
     "data": {
      "text/html": [
<<<<<<< Updated upstream
       "<style>#sk-container-id-1 {color: black;}#sk-container-id-1 pre{padding: 0;}#sk-container-id-1 div.sk-toggleable {background-color: white;}#sk-container-id-1 label.sk-toggleable__label {cursor: pointer;display: block;width: 100%;margin-bottom: 0;padding: 0.3em;box-sizing: border-box;text-align: center;}#sk-container-id-1 label.sk-toggleable__label-arrow:before {content: \"▸\";float: left;margin-right: 0.25em;color: #696969;}#sk-container-id-1 label.sk-toggleable__label-arrow:hover:before {color: black;}#sk-container-id-1 div.sk-estimator:hover label.sk-toggleable__label-arrow:before {color: black;}#sk-container-id-1 div.sk-toggleable__content {max-height: 0;max-width: 0;overflow: hidden;text-align: left;background-color: #f0f8ff;}#sk-container-id-1 div.sk-toggleable__content pre {margin: 0.2em;color: black;border-radius: 0.25em;background-color: #f0f8ff;}#sk-container-id-1 input.sk-toggleable__control:checked~div.sk-toggleable__content {max-height: 200px;max-width: 100%;overflow: auto;}#sk-container-id-1 input.sk-toggleable__control:checked~label.sk-toggleable__label-arrow:before {content: \"▾\";}#sk-container-id-1 div.sk-estimator input.sk-toggleable__control:checked~label.sk-toggleable__label {background-color: #d4ebff;}#sk-container-id-1 div.sk-label input.sk-toggleable__control:checked~label.sk-toggleable__label {background-color: #d4ebff;}#sk-container-id-1 input.sk-hidden--visually {border: 0;clip: rect(1px 1px 1px 1px);clip: rect(1px, 1px, 1px, 1px);height: 1px;margin: -1px;overflow: hidden;padding: 0;position: absolute;width: 1px;}#sk-container-id-1 div.sk-estimator {font-family: monospace;background-color: #f0f8ff;border: 1px dotted black;border-radius: 0.25em;box-sizing: border-box;margin-bottom: 0.5em;}#sk-container-id-1 div.sk-estimator:hover {background-color: #d4ebff;}#sk-container-id-1 div.sk-parallel-item::after {content: \"\";width: 100%;border-bottom: 1px solid gray;flex-grow: 1;}#sk-container-id-1 div.sk-label:hover label.sk-toggleable__label {background-color: #d4ebff;}#sk-container-id-1 div.sk-serial::before {content: \"\";position: absolute;border-left: 1px solid gray;box-sizing: border-box;top: 0;bottom: 0;left: 50%;z-index: 0;}#sk-container-id-1 div.sk-serial {display: flex;flex-direction: column;align-items: center;background-color: white;padding-right: 0.2em;padding-left: 0.2em;position: relative;}#sk-container-id-1 div.sk-item {position: relative;z-index: 1;}#sk-container-id-1 div.sk-parallel {display: flex;align-items: stretch;justify-content: center;background-color: white;position: relative;}#sk-container-id-1 div.sk-item::before, #sk-container-id-1 div.sk-parallel-item::before {content: \"\";position: absolute;border-left: 1px solid gray;box-sizing: border-box;top: 0;bottom: 0;left: 50%;z-index: -1;}#sk-container-id-1 div.sk-parallel-item {display: flex;flex-direction: column;z-index: 1;position: relative;background-color: white;}#sk-container-id-1 div.sk-parallel-item:first-child::after {align-self: flex-end;width: 50%;}#sk-container-id-1 div.sk-parallel-item:last-child::after {align-self: flex-start;width: 50%;}#sk-container-id-1 div.sk-parallel-item:only-child::after {width: 0;}#sk-container-id-1 div.sk-dashed-wrapped {border: 1px dashed gray;margin: 0 0.4em 0.5em 0.4em;box-sizing: border-box;padding-bottom: 0.4em;background-color: white;}#sk-container-id-1 div.sk-label label {font-family: monospace;font-weight: bold;display: inline-block;line-height: 1.2em;}#sk-container-id-1 div.sk-label-container {text-align: center;}#sk-container-id-1 div.sk-container {/* jupyter's `normalize.less` sets `[hidden] { display: none; }` but bootstrap.min.css set `[hidden] { display: none !important; }` so we also need the `!important` here to be able to override the default hidden behavior on the sphinx rendered scikit-learn.org. See: https://github.com/scikit-learn/scikit-learn/issues/21755 */display: inline-block !important;position: relative;}#sk-container-id-1 div.sk-text-repr-fallback {display: none;}</style><div id=\"sk-container-id-1\" class=\"sk-top-container\"><div class=\"sk-text-repr-fallback\"><pre>LinearRegression()</pre><b>In a Jupyter environment, please rerun this cell to show the HTML representation or trust the notebook. <br />On GitHub, the HTML representation is unable to render, please try loading this page with nbviewer.org.</b></div><div class=\"sk-container\" hidden><div class=\"sk-item\"><div class=\"sk-estimator sk-toggleable\"><input class=\"sk-toggleable__control sk-hidden--visually\" id=\"sk-estimator-id-1\" type=\"checkbox\" checked><label for=\"sk-estimator-id-1\" class=\"sk-toggleable__label sk-toggleable__label-arrow\">LinearRegression</label><div class=\"sk-toggleable__content\"><pre>LinearRegression()</pre></div></div></div></div></div>"
=======
       "<style>#sk-container-id-2 {color: black;}#sk-container-id-2 pre{padding: 0;}#sk-container-id-2 div.sk-toggleable {background-color: white;}#sk-container-id-2 label.sk-toggleable__label {cursor: pointer;display: block;width: 100%;margin-bottom: 0;padding: 0.3em;box-sizing: border-box;text-align: center;}#sk-container-id-2 label.sk-toggleable__label-arrow:before {content: \"▸\";float: left;margin-right: 0.25em;color: #696969;}#sk-container-id-2 label.sk-toggleable__label-arrow:hover:before {color: black;}#sk-container-id-2 div.sk-estimator:hover label.sk-toggleable__label-arrow:before {color: black;}#sk-container-id-2 div.sk-toggleable__content {max-height: 0;max-width: 0;overflow: hidden;text-align: left;background-color: #f0f8ff;}#sk-container-id-2 div.sk-toggleable__content pre {margin: 0.2em;color: black;border-radius: 0.25em;background-color: #f0f8ff;}#sk-container-id-2 input.sk-toggleable__control:checked~div.sk-toggleable__content {max-height: 200px;max-width: 100%;overflow: auto;}#sk-container-id-2 input.sk-toggleable__control:checked~label.sk-toggleable__label-arrow:before {content: \"▾\";}#sk-container-id-2 div.sk-estimator input.sk-toggleable__control:checked~label.sk-toggleable__label {background-color: #d4ebff;}#sk-container-id-2 div.sk-label input.sk-toggleable__control:checked~label.sk-toggleable__label {background-color: #d4ebff;}#sk-container-id-2 input.sk-hidden--visually {border: 0;clip: rect(1px 1px 1px 1px);clip: rect(1px, 1px, 1px, 1px);height: 1px;margin: -1px;overflow: hidden;padding: 0;position: absolute;width: 1px;}#sk-container-id-2 div.sk-estimator {font-family: monospace;background-color: #f0f8ff;border: 1px dotted black;border-radius: 0.25em;box-sizing: border-box;margin-bottom: 0.5em;}#sk-container-id-2 div.sk-estimator:hover {background-color: #d4ebff;}#sk-container-id-2 div.sk-parallel-item::after {content: \"\";width: 100%;border-bottom: 1px solid gray;flex-grow: 1;}#sk-container-id-2 div.sk-label:hover label.sk-toggleable__label {background-color: #d4ebff;}#sk-container-id-2 div.sk-serial::before {content: \"\";position: absolute;border-left: 1px solid gray;box-sizing: border-box;top: 0;bottom: 0;left: 50%;z-index: 0;}#sk-container-id-2 div.sk-serial {display: flex;flex-direction: column;align-items: center;background-color: white;padding-right: 0.2em;padding-left: 0.2em;position: relative;}#sk-container-id-2 div.sk-item {position: relative;z-index: 1;}#sk-container-id-2 div.sk-parallel {display: flex;align-items: stretch;justify-content: center;background-color: white;position: relative;}#sk-container-id-2 div.sk-item::before, #sk-container-id-2 div.sk-parallel-item::before {content: \"\";position: absolute;border-left: 1px solid gray;box-sizing: border-box;top: 0;bottom: 0;left: 50%;z-index: -1;}#sk-container-id-2 div.sk-parallel-item {display: flex;flex-direction: column;z-index: 1;position: relative;background-color: white;}#sk-container-id-2 div.sk-parallel-item:first-child::after {align-self: flex-end;width: 50%;}#sk-container-id-2 div.sk-parallel-item:last-child::after {align-self: flex-start;width: 50%;}#sk-container-id-2 div.sk-parallel-item:only-child::after {width: 0;}#sk-container-id-2 div.sk-dashed-wrapped {border: 1px dashed gray;margin: 0 0.4em 0.5em 0.4em;box-sizing: border-box;padding-bottom: 0.4em;background-color: white;}#sk-container-id-2 div.sk-label label {font-family: monospace;font-weight: bold;display: inline-block;line-height: 1.2em;}#sk-container-id-2 div.sk-label-container {text-align: center;}#sk-container-id-2 div.sk-container {/* jupyter's `normalize.less` sets `[hidden] { display: none; }` but bootstrap.min.css set `[hidden] { display: none !important; }` so we also need the `!important` here to be able to override the default hidden behavior on the sphinx rendered scikit-learn.org. See: https://github.com/scikit-learn/scikit-learn/issues/21755 */display: inline-block !important;position: relative;}#sk-container-id-2 div.sk-text-repr-fallback {display: none;}</style><div id=\"sk-container-id-2\" class=\"sk-top-container\"><div class=\"sk-text-repr-fallback\"><pre>LinearRegression()</pre><b>In a Jupyter environment, please rerun this cell to show the HTML representation or trust the notebook. <br />On GitHub, the HTML representation is unable to render, please try loading this page with nbviewer.org.</b></div><div class=\"sk-container\" hidden><div class=\"sk-item\"><div class=\"sk-estimator sk-toggleable\"><input class=\"sk-toggleable__control sk-hidden--visually\" id=\"sk-estimator-id-2\" type=\"checkbox\" checked><label for=\"sk-estimator-id-2\" class=\"sk-toggleable__label sk-toggleable__label-arrow\">LinearRegression</label><div class=\"sk-toggleable__content\"><pre>LinearRegression()</pre></div></div></div></div></div>"
>>>>>>> Stashed changes
      ],
      "text/plain": [
       "LinearRegression()"
      ]
     },
<<<<<<< Updated upstream
     "execution_count": 18,
=======
     "execution_count": 38,
>>>>>>> Stashed changes
     "metadata": {},
     "output_type": "execute_result"
    }
   ],
   "source": [
    "#Poly degree 2\n",
    "lr = LinearRegression()\n",
    "lr.fit(X , Y)\n",
    "#12.174 oldu "
   ]
  },
  {
   "cell_type": "code",
<<<<<<< Updated upstream
   "execution_count": 19,
=======
   "execution_count": 39,
>>>>>>> Stashed changes
   "metadata": {},
   "outputs": [],
   "source": [
    "from sklearn.pipeline import make_pipeline\n",
    "from sklearn.preprocessing import RobustScaler , MinMaxScaler ,MaxAbsScaler,StandardScaler\n"
   ]
  },
  {
   "cell_type": "code",
<<<<<<< Updated upstream
   "execution_count": 20,
   "metadata": {},
   "outputs": [
    {
     "name": "stdout",
     "output_type": "stream",
     "text": [
      "Best i: 0\n",
      "Best error: 0\n"
     ]
    }
   ],
   "source": [
    "from sklearn.metrics import mean_squared_error\n",
    "inputs = [RobustScaler(with_centering=False), MaxAbsScaler(), StandardScaler(with_mean=False)]\n",
    "best_i = 0\n",
    "best_error = 0\n",
    "for i in inputs:\n",
    "    pipeline = make_pipeline(i, LinearRegression())\n",
    "    pipeline.fit(X_train, Y_train)\n",
    "    predictions = pipeline.predict(X_test)\n",
    "    error = mean_squared_error(Y_test, predictions)\n",
    "    if error < best_error:\n",
    "        best_i = i\n",
    "        best_error = error\n",
    "print(f\"Best i: {best_i}\")\n",
    "print(f\"Best error: {best_error}\")"
   ]
  },
  {
   "cell_type": "code",
   "execution_count": 21,
=======
   "execution_count": 40,
>>>>>>> Stashed changes
   "metadata": {},
   "outputs": [
    {
     "name": "stdout",
     "output_type": "stream",
     "text": [
      "0.005 0.05\n"
     ]
    }
   ],
   "source": [
    "# enet = ElasticNet(alpha=0.4,l1_ratio=0.9,max_iter=10000 )\n",
    "# enet.fit(X , Y)\n",
    "alpha = [0.005,0.0001,0.01,0.1,0.2,0.5]\n",
    "l1 = [0.01,0.05,0.1,0.2,0.3,0.5,0.7,0.9]\n",
    "modelcv = ElasticNetCV(l1_ratio=l1 , alphas = alpha , cv=10)\n",
    "modelcv.fit(X,Y)\n",
    "print(modelcv.alpha_ , modelcv.l1_ratio_)\n"
   ]
  },
  {
   "cell_type": "code",
<<<<<<< Updated upstream
   "execution_count": 22,
=======
   "execution_count": 41,
>>>>>>> Stashed changes
   "metadata": {},
   "outputs": [],
   "source": [
    "\n",
    "ENet = make_pipeline(RobustScaler(with_centering=False), ElasticNet(alpha=modelcv.alpha_, l1_ratio=modelcv.l1_ratio_, max_iter=20000))\n",
    "enet = ENet.fit(X, Y)\n"
   ]
  },
  {
   "cell_type": "code",
<<<<<<< Updated upstream
   "execution_count": 23,
=======
   "execution_count": 42,
>>>>>>> Stashed changes
   "metadata": {},
   "outputs": [
    {
     "data": {
      "text/html": [
       "<div>\n",
       "<style scoped>\n",
       "    .dataframe tbody tr th:only-of-type {\n",
       "        vertical-align: middle;\n",
       "    }\n",
       "\n",
       "    .dataframe tbody tr th {\n",
       "        vertical-align: top;\n",
       "    }\n",
       "\n",
       "    .dataframe thead th {\n",
       "        text-align: right;\n",
       "    }\n",
       "</style>\n",
       "<table border=\"1\" class=\"dataframe\">\n",
       "  <thead>\n",
       "    <tr style=\"text-align: right;\">\n",
       "      <th></th>\n",
       "      <th>Id</th>\n",
       "      <th>SalePrice</th>\n",
       "    </tr>\n",
       "  </thead>\n",
       "  <tbody>\n",
       "    <tr>\n",
       "      <th>0</th>\n",
       "      <td>1461</td>\n",
<<<<<<< Updated upstream
       "      <td>118706.104644</td>\n",
=======
       "      <td>119611.662912</td>\n",
>>>>>>> Stashed changes
       "    </tr>\n",
       "    <tr>\n",
       "      <th>1</th>\n",
       "      <td>1462</td>\n",
<<<<<<< Updated upstream
       "      <td>162898.493425</td>\n",
=======
       "      <td>159892.609487</td>\n",
>>>>>>> Stashed changes
       "    </tr>\n",
       "    <tr>\n",
       "      <th>2</th>\n",
       "      <td>1463</td>\n",
<<<<<<< Updated upstream
       "      <td>184559.048991</td>\n",
=======
       "      <td>182473.379017</td>\n",
>>>>>>> Stashed changes
       "    </tr>\n",
       "    <tr>\n",
       "      <th>3</th>\n",
       "      <td>1464</td>\n",
<<<<<<< Updated upstream
       "      <td>201232.651692</td>\n",
=======
       "      <td>196579.009154</td>\n",
>>>>>>> Stashed changes
       "    </tr>\n",
       "    <tr>\n",
       "      <th>4</th>\n",
       "      <td>1465</td>\n",
<<<<<<< Updated upstream
       "      <td>193211.748844</td>\n",
=======
       "      <td>198233.665804</td>\n",
>>>>>>> Stashed changes
       "    </tr>\n",
       "  </tbody>\n",
       "</table>\n",
       "</div>"
      ],
      "text/plain": [
       "     Id      SalePrice\n",
<<<<<<< Updated upstream
       "0  1461  118706.104644\n",
       "1  1462  162898.493425\n",
       "2  1463  184559.048991\n",
       "3  1464  201232.651692\n",
       "4  1465  193211.748844"
      ]
     },
     "execution_count": 23,
=======
       "0  1461  119611.662912\n",
       "1  1462  159892.609487\n",
       "2  1463  182473.379017\n",
       "3  1464  196579.009154\n",
       "4  1465  198233.665804"
      ]
     },
     "execution_count": 42,
>>>>>>> Stashed changes
     "metadata": {},
     "output_type": "execute_result"
    }
   ],
   "source": [
    "\n",
    "\n",
    "filename = \"/Users/hajiaga/Documents/house-prices-advanced-regression-techniques-2/sample_submission2.csv\"\n",
    "import os\n",
    "test_pred =np.expm1(enet.predict(test))\n",
    "sample_submission['SalePrice'] = test_pred\n",
    "if os.path.exists(filename):\n",
    "    os.remove(filename)\n",
    "sample_submission.to_csv(filename, index=False) \n",
    "sample_submission.head()\n"
   ]
  }
 ],
 "metadata": {
  "kernelspec": {
   "display_name": "unsupervisedLearning",
   "language": "python",
   "name": "python3"
  },
  "language_info": {
   "codemirror_mode": {
    "name": "ipython",
    "version": 3
   },
   "file_extension": ".py",
   "mimetype": "text/x-python",
   "name": "python",
   "nbconvert_exporter": "python",
   "pygments_lexer": "ipython3",
   "version": "3.11.4"
  }
 },
 "nbformat": 4,
 "nbformat_minor": 2
}
